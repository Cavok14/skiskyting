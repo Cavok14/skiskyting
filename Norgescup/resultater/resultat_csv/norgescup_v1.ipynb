{
 "cells": [
  {
   "cell_type": "code",
   "execution_count": 4,
   "metadata": {},
   "outputs": [],
   "source": [
    "#Laster inn oversikt over event og event id\n",
    "\n",
    "import pandas as pd\n",
    "\n",
    "linker = pd.read_csv(\"nc_link.csv\", delimiter= ';')"
   ]
  },
  {
   "cell_type": "code",
   "execution_count": 5,
   "metadata": {},
   "outputs": [],
   "source": [
    "#modifiserer linker\n",
    "import re\n",
    "\n",
    "#Små bokstaver, fjerner tegn\n",
    "def modify_event(event):\n",
    "    # Erstatt mellomrom med underscore (_)\n",
    "    modified_event = event.replace(' ', '_')\n",
    "    # Gjør alt til små bokstaver\n",
    "    modified_event = modified_event.lower()\n",
    "    # Fjern spesialtegn som / - ( og punktum\n",
    "    modified_event = re.sub(r'[^a-z0-9_]', '', modified_event)\n",
    "    return modified_event\n",
    "\n",
    "#fjerner / i sesong\n",
    "def modify_sesong(sesong):\n",
    "    modified_sesong = re.sub(r'[^a-z0-9_]', '', sesong)\n",
    "    return modified_sesong\n",
    "\n",
    "#Gjør endringene\n",
    "linker['event'] = linker['event'].apply(modify_event)\n",
    "linker['sesong'] = linker['sesong'].apply(modify_sesong)\n",
    "\n",
    "#Lager en csv nacn\n",
    "linker['csv_navn'] = linker['sesong']+linker['event']\n"
   ]
  },
  {
   "cell_type": "code",
   "execution_count": 26,
   "metadata": {},
   "outputs": [],
   "source": [
    "#api spørringer\n",
    "resultatliste_url = 'https://live.eqtiming.com/api//Report/220'\n",
    "resultatliste_per_klasse_url = 'https://live.eqtiming.com/api//Report/346'\n",
    "deltakerliste_url = 'https://live.eqtiming.com/api//Report/297'"
   ]
  },
  {
   "cell_type": "code",
   "execution_count": 23,
   "metadata": {},
   "outputs": [],
   "source": [
    "import os\n",
    "import io\n",
    "import requests\n",
    "\n",
    "\n",
    "def get_dataframe_from_api(url, event_id):\n",
    "    params = {'eventId': event_id}\n",
    "    response = requests.get(url, params=params)\n",
    "    if response.status_code == 200:\n",
    "        # Les dataene direkte inn i en DataFrame\n",
    "        df = pd.read_csv(io.StringIO(response.content.decode('utf-8')),delimiter=';')\n",
    "        return df\n",
    "    else:\n",
    "        print(f\"Feil ved nedlasting av data fra {url}\")\n",
    "        return None\n",
    "    "
   ]
  },
  {
   "cell_type": "code",
   "execution_count": 38,
   "metadata": {},
   "outputs": [],
   "source": [
    "def nc_data(event_id):\n",
    "\n",
    "    resultatliste_url = 'https://live.eqtiming.com/api//Report/220'\n",
    "    deltakerliste_url = 'https://live.eqtiming.com/api//Report/297'\n",
    "\n",
    "    params = {'eventId': event_id}\n",
    "\n",
    "    response_resultatliste = requests.get(resultatliste_url, params=params)\n",
    "    response_deltakerliste = requests.get(deltakerliste_url, params=params)\n",
    "\n",
    "    if response_resultatliste.status_code == 200:\n",
    "        # Les dataene direkte inn i en DataFrame\n",
    "        resultatliste_df = pd.read_csv(io.StringIO(response_resultatliste.content.decode('utf-8')),delimiter=';')\n",
    "    else:\n",
    "        print(f\"Feil ved nedlasting av data fra {resultatliste_url}\")\n",
    "        return None\n",
    "    \n",
    "    if response_deltakerliste.status_code == 200:\n",
    "        # Les dataene direkte inn i en DataFrame\n",
    "        deltakerliste_df = pd.read_csv(io.StringIO(response_deltakerliste.content.decode('utf-8')),delimiter=';')\n",
    "    else:\n",
    "        print(f\"Feil ved nedlasting av data fra {deltakerliste_url}\")\n",
    "        return None\n",
    "    \n",
    "    filtered_df = deltakerliste_df[deltakerliste_df['REGION'] == 'Troms SSK'].copy() \n",
    "    filtered_df.loc[:, 'navn'] = filtered_df['FIRSTNAME'].str.cat(filtered_df['SURNAME'], sep=' ')\n",
    "    navn_list = filtered_df['navn'].tolist()\n",
    "    resultatliste_df['navn'] = resultatliste_df['Firstname'].str.cat(resultatliste_df['Surname'], sep=' ')\n",
    "    filtered_resultatliste_df = resultatliste_df[resultatliste_df['navn'].isin(navn_list)].copy() \n",
    "\n",
    "    return filtered_resultatliste_df"
   ]
  },
  {
   "cell_type": "code",
   "execution_count": 39,
   "metadata": {},
   "outputs": [],
   "source": [
    "test = nc_data(38552)\n",
    "test_2 = nc_data(21041)"
   ]
  },
  {
   "cell_type": "code",
   "execution_count": 40,
   "metadata": {},
   "outputs": [],
   "source": [
    "resultatliste_df = get_dataframe_from_api(resultatliste_per_klasse_url, 38552)\n",
    "deltakerliste_df = get_dataframe_from_api(deltakerliste_url, 38552)\n",
    "test = get_dataframe_from_api(resultatliste_url, 38552)"
   ]
  },
  {
   "cell_type": "code",
   "execution_count": 21,
   "metadata": {},
   "outputs": [
    {
     "name": "stderr",
     "output_type": "stream",
     "text": [
      "/var/folders/rr/dz54q6j13k102m4gr5nfnv1r0000gn/T/ipykernel_48537/2487480544.py:2: SettingWithCopyWarning: \n",
      "A value is trying to be set on a copy of a slice from a DataFrame.\n",
      "Try using .loc[row_indexer,col_indexer] = value instead\n",
      "\n",
      "See the caveats in the documentation: https://pandas.pydata.org/pandas-docs/stable/user_guide/indexing.html#returning-a-view-versus-a-copy\n",
      "  filtered_df['navn'] = filtered_df['FIRSTNAME'].str.cat(filtered_df['SURNAME'], sep=' ')\n"
     ]
    }
   ],
   "source": [
    "filtered_df = deltakerliste_df[deltakerliste_df['REGION'] == 'Troms SSK']\n",
    "filtered_df['navn'] = filtered_df['FIRSTNAME'].str.cat(filtered_df['SURNAME'], sep=' ')\n",
    "navn_list = filtered_df['navn'].tolist()\n",
    "resultatliste_df['navn'] = resultatliste_df['Firstname'].str.cat(resultatliste_df['Surname'], sep=' ')\n",
    "filtered_resultatliste_df = resultatliste_df[resultatliste_df['navn'].isin(navn_list)]\n",
    "\n"
   ]
  }
 ],
 "metadata": {
  "kernelspec": {
   "display_name": "Python 3",
   "language": "python",
   "name": "python3"
  },
  "language_info": {
   "codemirror_mode": {
    "name": "ipython",
    "version": 3
   },
   "file_extension": ".py",
   "mimetype": "text/x-python",
   "name": "python",
   "nbconvert_exporter": "python",
   "pygments_lexer": "ipython3",
   "version": "3.12.0"
  }
 },
 "nbformat": 4,
 "nbformat_minor": 2
}
