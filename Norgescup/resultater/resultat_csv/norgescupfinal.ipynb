{
 "cells": [
  {
   "cell_type": "code",
   "execution_count": 6,
   "metadata": {},
   "outputs": [],
   "source": [
    "import pandas as pd\n",
    "\n",
    "linker = pd.read_csv(\"nc_link.csv\", delimiter= ';')"
   ]
  },
  {
   "cell_type": "code",
   "execution_count": 7,
   "metadata": {},
   "outputs": [],
   "source": [
    "import re\n",
    "def modify_event(event):\n",
    "    # Erstatt mellomrom med underscore (_)\n",
    "    modified_event = event.replace(' ', '_')\n",
    "    # Gjør alt til små bokstaver\n",
    "    modified_event = modified_event.lower()\n",
    "    # Fjern spesialtegn som / - ( og punktum\n",
    "    modified_event = re.sub(r'[^a-z0-9_]', '', modified_event)\n",
    "    return modified_event\n",
    "\n",
    "\n",
    "linker['event'] = linker['event'].apply(modify_event)"
   ]
  },
  {
   "cell_type": "code",
   "execution_count": null,
   "metadata": {},
   "outputs": [],
   "source": [
    "import requests\n",
    "\n",
    "# Base URL\n",
    "base_url = 'https://live.eqtiming.com/api//Report/220'\n",
    "\n",
    "# Try accessing a different eventId\n",
    "event_id = 21042  # Example of a different event ID\n",
    "url = f'{base_url}?eventId={event_id}'\n",
    "\n",
    "# Send a GET request\n",
    "response = requests.get(url)\n",
    "\n",
    "# Check if the request was successful\n",
    "if response.status_code == 200:\n",
    "    print('Access to new endpoint successful.')\n",
    "    # Process the response as needed\n",
    "else:\n",
    "    print(f'Failed to access endpoint. Status code: {response.status_code}')"
   ]
  },
  {
   "cell_type": "code",
   "execution_count": 8,
   "metadata": {},
   "outputs": [],
   "source": [
    "import pandas as pd\n",
    "import requests\n",
    "import os\n",
    "\n",
    "# Antar at 'linker' er din dataframe som inneholder 'event' og 'event_id' kolonner\n",
    "\n",
    "resultatliste_url = 'https://live.eqtiming.com/api//Report/220',\n",
    "resultatliste_per_klasse_url = 'https://live.eqtiming.com/api//Report/346'\n",
    "deltakerliste_url = 'https://live.eqtiming.com/api//Report/297'\n",
    "\n",
    "# Definer base-URL-er for API-ene\n",
    "base_urls = {\n",
    "    'resultatliste': 'https://live.eqtiming.com/api//Report/220',\n",
    "    'resultatliste_per_klasse': 'https://live.eqtiming.com/api//Report/346',\n",
    "    'deltakerliste': 'https://live.eqtiming.com/api//Report/297'\n",
    "}\n",
    "\n",
    "\n",
    "\n",
    "\n",
    "# Funksjon for å laste ned og lagre CSV-filer\n",
    "def save_csv_from_api(url, event_id, event_name):\n",
    "    params = {'eventId': event_id}\n",
    "    response = requests.get(url, params=params)\n",
    "    if response.status_code == 200:\n",
    "        # Lagre filen med navn basert på event_navn.csv\n",
    "        filename = f\"{event_name}.csv\"\n",
    "        filepath = os.path.join('/Users/pervassmyr/Documents/GitHub/skiskyting/Norgescup/resultater/resultat_csv', filename)  # Bytt 'path_to_your_folder' med din spesifikke mappe\n",
    "        with open(filepath, 'wb') as f:\n",
    "            f.write(response.content)\n",
    "        print(f\"{filename} lagret.\")\n",
    "    else:\n",
    "        print(f\"Feil ved nedlasting av data for {event_name}\")\n"
   ]
  },
  {
   "cell_type": "code",
   "execution_count": 19,
   "metadata": {},
   "outputs": [],
   "source": [
    "import os\n",
    "import io\n",
    "def get_dataframe_from_api(url, event_id):\n",
    "    params = {'eventId': event_id}\n",
    "    response = requests.get(url, params=params)\n",
    "    if response.status_code == 200:\n",
    "        # Les dataene direkte inn i en DataFrame\n",
    "        df = pd.read_csv(io.StringIO(response.content.decode('utf-8')),delimiter=';')\n",
    "        return df\n",
    "    else:\n",
    "        print(f\"Feil ved nedlasting av data fra {url}\")\n",
    "        return None"
   ]
  },
  {
   "cell_type": "code",
   "execution_count": 22,
   "metadata": {},
   "outputs": [],
   "source": [
    "base_url = 'https://live.eqtiming.com/api//Report/220'\n",
    "event_id = 'your_event_id_here'  # Legg til din faktiske event_id her\n",
    "event_name = 'resultatliste'\n",
    "\n",
    "resultatliste_df = get_dataframe_from_api(base_url, 38552)"
   ]
  },
  {
   "cell_type": "code",
   "execution_count": 20,
   "metadata": {},
   "outputs": [
    {
     "name": "stdout",
     "output_type": "stream",
     "text": [
      "   Startnumber   Firstname       Surname Gender  Nat  \\\n",
      "0          434       Maren   Wangensteen      F  NOR   \n",
      "1          430       Jenny         Enodd      F  NOR   \n",
      "2          435    Ragnhild  Femsteinevik      F  NOR   \n",
      "3          423  Rikke Hald      Andersen      F  NOR   \n",
      "4          415  Anne Marit      Bredalen      F  NOR   \n",
      "\n",
      "                                 Club   Stage     Class   Group Total Time  \\\n",
      "0                    Vestre Slidre IL  Sprint  K Senior  Sprint    25:30.3   \n",
      "1  Budal IL / Trondheim Biathlon Team  Sprint  K Senior  Sprint    25:34.6   \n",
      "2                       Hålandsdal IL  Sprint  K Senior  Sprint    25:43.7   \n",
      "3    Asker SK / Holmenkollen Biathlon  Sprint  K Senior  Sprint    25:45.9   \n",
      "4  Åsnes Skiskytterlag / Team Glalaks  Sprint  K Senior  Sprint    26:13.7   \n",
      "\n",
      "   ... Lap Rank Class  Diff Winner Class  Rank Gender Diff Winner Gender  \\\n",
      "0  ...   1          1             0:00.0           61             4:46.2   \n",
      "1  ...   1          2             0:04.3           63             4:50.5   \n",
      "2  ...   1          3             0:13.4           72             4:59.6   \n",
      "3  ...   1          4             0:15.6           74             5:01.8   \n",
      "4  ...   1          5             0:43.4           80             5:29.6   \n",
      "\n",
      "   Rank Total Diff Winner Total                    TimeOfDay City Unnamed: 21  \n",
      "0         106            4:46.2  2018-01-07T14:20:28.8610000  NaN         3+1  \n",
      "1         110            4:50.5  2018-01-07T14:19:14.1250000  NaN         0+2  \n",
      "2         127            4:59.6  2018-01-07T14:21:03.4610000  NaN         0+1  \n",
      "3         130            5:01.8  2018-01-07T14:17:05.0210000  NaN         0+2  \n",
      "4         148            5:29.6  2018-01-07T14:14:52.9790000  NaN         0+1  \n",
      "\n",
      "[5 rows x 22 columns]\n"
     ]
    }
   ],
   "source": [
    "\n"
   ]
  },
  {
   "cell_type": "code",
   "execution_count": 20,
   "metadata": {},
   "outputs": [
    {
     "ename": "FileNotFoundError",
     "evalue": "[Errno 2] No such file or directory: '/Users/pervassmyr/Documents/GitHub/skiskyting/Norgescup/resultater/resultat_csv/Normal - NM Jr og NM Sr (Statkraft Jr Cup 5/DNB cup 6).csv'",
     "output_type": "error",
     "traceback": [
      "\u001b[0;31m---------------------------------------------------------------------------\u001b[0m",
      "\u001b[0;31mFileNotFoundError\u001b[0m                         Traceback (most recent call last)",
      "Cell \u001b[0;32mIn[20], line 1\u001b[0m\n\u001b[0;32m----> 1\u001b[0m \u001b[43msave_csv_from_api\u001b[49m\u001b[43m(\u001b[49m\u001b[43mbase_urls\u001b[49m\u001b[43m[\u001b[49m\u001b[38;5;124;43m'\u001b[39;49m\u001b[38;5;124;43mresultatliste\u001b[39;49m\u001b[38;5;124;43m'\u001b[39;49m\u001b[43m]\u001b[49m\u001b[43m,\u001b[49m\u001b[43m \u001b[49m\u001b[38;5;241;43m21857\u001b[39;49m\u001b[43m,\u001b[49m\u001b[43m \u001b[49m\u001b[38;5;124;43m\"\u001b[39;49m\u001b[38;5;124;43mNormal - NM Jr og NM Sr (Statkraft Jr Cup 5/DNB cup 6)\u001b[39;49m\u001b[38;5;124;43m\"\u001b[39;49m\u001b[43m)\u001b[49m\n",
      "Cell \u001b[0;32mIn[19], line 22\u001b[0m, in \u001b[0;36msave_csv_from_api\u001b[0;34m(url, event_id, event_name)\u001b[0m\n\u001b[1;32m     20\u001b[0m filename \u001b[38;5;241m=\u001b[39m \u001b[38;5;124mf\u001b[39m\u001b[38;5;124m\"\u001b[39m\u001b[38;5;132;01m{\u001b[39;00mevent_name\u001b[38;5;132;01m}\u001b[39;00m\u001b[38;5;124m.csv\u001b[39m\u001b[38;5;124m\"\u001b[39m\n\u001b[1;32m     21\u001b[0m filepath \u001b[38;5;241m=\u001b[39m os\u001b[38;5;241m.\u001b[39mpath\u001b[38;5;241m.\u001b[39mjoin(\u001b[38;5;124m'\u001b[39m\u001b[38;5;124m/Users/pervassmyr/Documents/GitHub/skiskyting/Norgescup/resultater/resultat_csv\u001b[39m\u001b[38;5;124m'\u001b[39m, filename)  \u001b[38;5;66;03m# Bytt 'path_to_your_folder' med din spesifikke mappe\u001b[39;00m\n\u001b[0;32m---> 22\u001b[0m \u001b[38;5;28;01mwith\u001b[39;00m \u001b[38;5;28;43mopen\u001b[39;49m\u001b[43m(\u001b[49m\u001b[43mfilepath\u001b[49m\u001b[43m,\u001b[49m\u001b[43m \u001b[49m\u001b[38;5;124;43m'\u001b[39;49m\u001b[38;5;124;43mwb\u001b[39;49m\u001b[38;5;124;43m'\u001b[39;49m\u001b[43m)\u001b[49m \u001b[38;5;28;01mas\u001b[39;00m f:\n\u001b[1;32m     23\u001b[0m     f\u001b[38;5;241m.\u001b[39mwrite(response\u001b[38;5;241m.\u001b[39mcontent)\n\u001b[1;32m     24\u001b[0m \u001b[38;5;28mprint\u001b[39m(\u001b[38;5;124mf\u001b[39m\u001b[38;5;124m\"\u001b[39m\u001b[38;5;132;01m{\u001b[39;00mfilename\u001b[38;5;132;01m}\u001b[39;00m\u001b[38;5;124m lagret.\u001b[39m\u001b[38;5;124m\"\u001b[39m)\n",
      "File \u001b[0;32m/Library/Frameworks/Python.framework/Versions/3.12/lib/python3.12/site-packages/IPython/core/interactiveshell.py:308\u001b[0m, in \u001b[0;36m_modified_open\u001b[0;34m(file, *args, **kwargs)\u001b[0m\n\u001b[1;32m    301\u001b[0m \u001b[38;5;28;01mif\u001b[39;00m file \u001b[38;5;129;01min\u001b[39;00m {\u001b[38;5;241m0\u001b[39m, \u001b[38;5;241m1\u001b[39m, \u001b[38;5;241m2\u001b[39m}:\n\u001b[1;32m    302\u001b[0m     \u001b[38;5;28;01mraise\u001b[39;00m \u001b[38;5;167;01mValueError\u001b[39;00m(\n\u001b[1;32m    303\u001b[0m         \u001b[38;5;124mf\u001b[39m\u001b[38;5;124m\"\u001b[39m\u001b[38;5;124mIPython won\u001b[39m\u001b[38;5;124m'\u001b[39m\u001b[38;5;124mt let you open fd=\u001b[39m\u001b[38;5;132;01m{\u001b[39;00mfile\u001b[38;5;132;01m}\u001b[39;00m\u001b[38;5;124m by default \u001b[39m\u001b[38;5;124m\"\u001b[39m\n\u001b[1;32m    304\u001b[0m         \u001b[38;5;124m\"\u001b[39m\u001b[38;5;124mas it is likely to crash IPython. If you know what you are doing, \u001b[39m\u001b[38;5;124m\"\u001b[39m\n\u001b[1;32m    305\u001b[0m         \u001b[38;5;124m\"\u001b[39m\u001b[38;5;124myou can use builtins\u001b[39m\u001b[38;5;124m'\u001b[39m\u001b[38;5;124m open.\u001b[39m\u001b[38;5;124m\"\u001b[39m\n\u001b[1;32m    306\u001b[0m     )\n\u001b[0;32m--> 308\u001b[0m \u001b[38;5;28;01mreturn\u001b[39;00m \u001b[43mio_open\u001b[49m\u001b[43m(\u001b[49m\u001b[43mfile\u001b[49m\u001b[43m,\u001b[49m\u001b[43m \u001b[49m\u001b[38;5;241;43m*\u001b[39;49m\u001b[43margs\u001b[49m\u001b[43m,\u001b[49m\u001b[43m \u001b[49m\u001b[38;5;241;43m*\u001b[39;49m\u001b[38;5;241;43m*\u001b[39;49m\u001b[43mkwargs\u001b[49m\u001b[43m)\u001b[49m\n",
      "\u001b[0;31mFileNotFoundError\u001b[0m: [Errno 2] No such file or directory: '/Users/pervassmyr/Documents/GitHub/skiskyting/Norgescup/resultater/resultat_csv/Normal - NM Jr og NM Sr (Statkraft Jr Cup 5/DNB cup 6).csv'"
     ]
    }
   ],
   "source": [
    "save_csv_from_api(base_urls['resultatliste'], 21857, \"Normal - NM Jr og NM Sr (Statkraft Jr Cup 5/DNB cup 6)\")"
   ]
  },
  {
   "cell_type": "code",
   "execution_count": 9,
   "metadata": {},
   "outputs": [
    {
     "name": "stdout",
     "output_type": "stream",
     "text": [
      "statkraft_junior_cup_1718_r.csv lagret.\n",
      "sprintnm_jr__sr_dnb_cup_6.csv lagret.\n",
      "normal__nm_jr_og_nm_sr_statkraft_jr_cup_5dnb_cup_6.csv lagret.\n",
      "dnb_cup_5_og_statkraft_jr_cup_4.csv lagret.\n",
      "dnb_cup_5_og_statkraft_jr_cup_4.csv lagret.\n",
      "dnb_cup_4_og_statkraft_junior_cup_3.csv lagret.\n",
      "dnb_cup_4_og_statkraft_junior_cup_3.csv lagret.\n",
      "dnb_cup_3_og_statkraft_jr_cup_2_1001.csv lagret.\n",
      "dnb_cup_3_og_statkraft_jr_cup_2_0901.csv lagret.\n",
      "dnb_cup_2_og_statkraft_junior_cup_1_sprint.csv lagret.\n",
      "dnb_cup_2_og_statkraft_junior_cup_1_normal.csv lagret.\n",
      "junior_cup_finale_5__fellesstart_1719r.csv lagret.\n",
      "dnb_cup_6junior_cup_4_10032018.csv lagret.\n",
      "nm_normal_senior_nm_normal__junior.csv lagret.\n",
      "dnb_cup_5__junior_cup_3_sprint.csv lagret.\n",
      "dnb_cup_5__junior_cup_3_normal.csv lagret.\n",
      "nm_jr_dnb_cup_4jr_cup_2.csv lagret.\n",
      "nm_jr_dnb_cup_4jr_cup_2.csv lagret.\n",
      "dnb_cup_3junior_cup_1_sprint.csv lagret.\n",
      "dnb_cup_3junior_cup_1_normal.csv lagret.\n"
     ]
    }
   ],
   "source": [
    "# Iterer gjennom hver rad i dataframe\n",
    "for index, row in linker.iterrows():\n",
    "    event_id = row['event_id']\n",
    "    event_name = row['event']\n",
    "\n",
    "    # Last ned og lagre resultatliste\n",
    "    save_csv_from_api(base_urls['resultatliste_per_klasse'], event_id, event_name)\n"
   ]
  },
  {
   "cell_type": "code",
   "execution_count": 11,
   "metadata": {},
   "outputs": [],
   "source": [
    "import pandas as pd\n",
    "df = pd.read_csv('dnb_cup_5__junior_cup_3_normal.csv', delimiter=';')"
   ]
  }
 ],
 "metadata": {
  "kernelspec": {
   "display_name": "Python 3",
   "language": "python",
   "name": "python3"
  },
  "language_info": {
   "codemirror_mode": {
    "name": "ipython",
    "version": 3
   },
   "file_extension": ".py",
   "mimetype": "text/x-python",
   "name": "python",
   "nbconvert_exporter": "python",
   "pygments_lexer": "ipython3",
   "version": "3.12.0"
  }
 },
 "nbformat": 4,
 "nbformat_minor": 2
}
