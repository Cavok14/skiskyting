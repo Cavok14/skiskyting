{
 "cells": [
  {
   "cell_type": "code",
   "execution_count": 1,
   "metadata": {},
   "outputs": [
    {
     "name": "stderr",
     "output_type": "stream",
     "text": [
      "/var/folders/rr/dz54q6j13k102m4gr5nfnv1r0000gn/T/ipykernel_39283/3438114157.py:5: ParserWarning: Length of header or names does not match length of data. This leads to a loss of data with index_col=False.\n",
      "  df = pd.read_csv('nc_sammenlagt_1516.csv', delimiter=';', encoding='utf-8',index_col=False)\n"
     ]
    }
   ],
   "source": [
    "import numpy as np\n",
    "import pandas as pd\n",
    "\n",
    "# Read the CSV without headers\n",
    "df = pd.read_csv('nc_sammenlagt_1516.csv', delimiter=';', encoding='utf-8',index_col=False)\n",
    "\n",
    "\n"
   ]
  },
  {
   "cell_type": "code",
   "execution_count": 2,
   "metadata": {},
   "outputs": [
    {
     "name": "stdout",
     "output_type": "stream",
     "text": [
      "['Number', 'Firstname', 'Surname', 'Birthday', 'Gender', 'Club', 'Nation', 'Type', 'Class', 'Starttime', 'Finish', 'RankValue', 'ExitStatus', 'Rank', 'RankPoints', 'Participated', 'ContestantId', 'Team', 'TotalPoints', 'TotalTime', 'TotalTimeFormatted', 'TotalDiffTimeFormatted', 'BonusSeconds', 'ClassId', 'DNB Cup 2 og Statkraft Junior Cup 1, Normal-Points', 'DNB Cup 2 og Statkraft Junior Cup 1, Normal-Time', 'DNB Cup 2 og Statkraft Junior Cup 1, Normal-TimeFormatted', 'DNB Cup 2 og Statkraft Junior Cup 1, Normal-DiffTimeFormatted', 'DNB Cup 2 og Statkraft Junior Cup 1, Sprint-Points', 'DNB Cup 2 og Statkraft Junior Cup 1, Sprint-Time', 'DNB Cup 2 og Statkraft Junior Cup 1, Sprint-TimeFormatted', 'DNB Cup 2 og Statkraft Junior Cup 1, Sprint-DiffTimeFormatted', 'DNB Cup 3 og Statkraft Jr Cup 2, 09.01-Points', 'DNB Cup 3 og Statkraft Jr Cup 2, 09.01-Time', 'DNB Cup 3 og Statkraft Jr Cup 2, 09.01-TimeFormatted', 'DNB Cup 3 og Statkraft Jr Cup 2, 09.01-DiffTimeFormatted', 'DNB Cup 3 og Statkraft Jr Cup 2, 10.01-Points', 'DNB Cup 3 og Statkraft Jr Cup 2, 10.01-Time', 'DNB Cup 3 og Statkraft Jr Cup 2, 10.01-TimeFormatted', 'DNB Cup 3 og Statkraft Jr Cup 2, 10.01-DiffTimeFormatted', 'DNB Cup 4 og Statkraft Junior cup 3-Points', 'DNB Cup 4 og Statkraft Junior cup 3-Time', 'DNB Cup 4 og Statkraft Junior cup 3-TimeFormatted', 'DNB Cup 4 og Statkraft Junior cup 3-DiffTimeFormatted', 'DNB Cup 4 /og Statkraft Junior Cup 3-Points', 'DNB Cup 4 /og Statkraft Junior Cup 3-Time', 'DNB Cup 4 /og Statkraft Junior Cup 3-TimeFormatted', 'DNB Cup 4 /og Statkraft Junior Cup 3-DiffTimeFormatted', 'DNB Cup 5 og Statkraft Jr Cup 4-Points', 'DNB Cup 5 og Statkraft Jr Cup 4-Time', 'DNB Cup 5 og Statkraft Jr Cup 4-TimeFormatted', 'DNB Cup 5 og Statkraft Jr Cup 4-DiffTimeFormatted', 'DNB Cup 5 og Statkraft Jr Cup 4-Points.1', 'DNB Cup 5 og Statkraft Jr Cup 4-Time.1', 'DNB Cup 5 og Statkraft Jr Cup 4-TimeFormatted.1', 'DNB Cup 5 og Statkraft Jr Cup 4-DiffTimeFormatted.1', 'Normal - NM Jr og NM Sr (Statkraft Jr Cup 5/DNB cup 6)-Points', 'Normal - NM Jr og NM Sr (Statkraft Jr Cup 5/DNB cup 6)-Time', 'Normal - NM Jr og NM Sr (Statkraft Jr Cup 5/DNB cup 6)-TimeFormatted', 'Normal - NM Jr og NM Sr (Statkraft Jr Cup 5/DNB cup 6)-DiffTimeFormatted', 'Sprint-NM Jr & Sr DNB Cup 6-Points', 'Sprint-NM Jr & Sr DNB Cup 6-Time', 'Sprint-NM Jr & Sr DNB Cup 6-TimeFormatted', 'Sprint-NM Jr & Sr DNB Cup 6-DiffTimeFormatted', 'Statkraft Junior Cup 17-18 år-Points', 'Statkraft Junior Cup 17-18 år-Time', 'Statkraft Junior Cup 17-18 år-TimeFormatted', 'Statkraft Junior Cup 17-18 år-DiffTimeFormatted', 'Statkraft Junior Cup 19-21 år-Points', 'Statkraft Junior Cup 19-21 år-Time', 'Statkraft Junior Cup 19-21 år-TimeFormatted', 'Statkraft Junior Cup 19-21 år-DiffTimeFormatted']\n"
     ]
    }
   ],
   "source": [
    "kolonner = list(df.columns)\n",
    "print(kolonner)\n"
   ]
  },
  {
   "cell_type": "code",
   "execution_count": 3,
   "metadata": {},
   "outputs": [],
   "source": [
    "#kolonner jeg trenger\n",
    "df['navn'] = df['Firstname'] + ' ' + df['Surname']\n",
    "\n",
    "kolonner = ['Number','navn', 'Firstname', 'Surname', 'Gender', 'Club', 'Type',\n",
    "'Class','RankValue', 'Rank', 'Participated', 'ContestantId',\n",
    "'Team', 'TotalPoints','ClassId',\n",
    "'DNB Cup 2 og Statkraft Junior Cup 1, Normal-Time',\n",
    "'DNB Cup 2 og Statkraft Junior Cup 1, Sprint-Time',\n",
    "'DNB Cup 3 og Statkraft Jr Cup 2, 09.01-Time', \n",
    "'DNB Cup 3 og Statkraft Jr Cup 2, 10.01-Time',\n",
    "'DNB Cup 4 og Statkraft Junior cup 3-Time',\n",
    "'DNB Cup 4 /og Statkraft Junior Cup 3-Time',\n",
    "'DNB Cup 5 og Statkraft Jr Cup 4-Time',\n",
    "'DNB Cup 5 og Statkraft Jr Cup 4-Time.1',\n",
    "'Normal - NM Jr og NM Sr (Statkraft Jr Cup 5/DNB cup 6)-Time',\n",
    "'Sprint-NM Jr & Sr DNB Cup 6-Time',\n",
    "'Statkraft Junior Cup 17-18 år-Time',\n",
    "'Statkraft Junior Cup 19-21 år-Time']\n",
    "\n",
    "df_filtrert = df[kolonner]\n",
    "\n",
    "ønskede_navn = [\n",
    "    'Tobias Karlsen',\n",
    "    'Per VASSMYR',\n",
    "    'Eirik Silsand Gerhardsen',\n",
    "    'Rasmus Odland Kvamme',\n",
    "    'Sigurd Vangberg Vaadal',\n",
    "    'Markus Elias Breivik',\n",
    "    'Gard Edvard Myhr',\n",
    "    'Emil Kloster Snekkevik',\n",
    "    'Robin Johan Benonisen',\n",
    "    'Sigbjørn Edøy',\n",
    "    'Idunn Raade Olsen',\n",
    "    'Julie Kloster Snekkevik'\n",
    "]\n",
    "\n",
    "df_filtrert = df_filtrert[df_filtrert['navn'].isin(ønskede_navn)]"
   ]
  },
  {
   "cell_type": "code",
   "execution_count": 4,
   "metadata": {},
   "outputs": [],
   "source": [
    "rename_mapping = {\n",
    "    'DNB Cup 2 og Statkraft Junior Cup 1, Normal-Time': 'DNB Cup 2 og Statkraft Junior Cup 1-poeng',\n",
    "    'DNB Cup 2 og Statkraft Junior Cup 1, Sprint-Time': 'DNB Cup 2 og Statkraft Junior Cup 1-poeng',\n",
    "    'DNB Cup 3 og Statkraft Jr Cup 2, 09.01-Time': 'DNB Cup 3 og Statkraft Jr Cup 2-poeng',\n",
    "    'DNB Cup 3 og Statkraft Jr Cup 2, 10.01-Time': 'DNB Cup 3 og Statkraft Jr Cup 2-poeng',\n",
    "    'DNB Cup 4 og Statkraft Junior cup 3-Time': 'DNB Cup 4 og Statkraft Junior cup 3-poeng',\n",
    "    'DNB Cup 4 /og Statkraft Junior Cup 3-Time': 'DNB Cup 4 og Statkraft Junior cup 3-poeng',\n",
    "    'DNB Cup 5 og Statkraft Jr Cup 4-Time': 'DNB Cup 5 og Statkraft Jr Cup 4-poeng',\n",
    "    'DNB Cup 5 og Statkraft Jr Cup 4-Time.1': 'DNB Cup 5 og Statkraft Jr Cup 4-poeng',\n",
    "    'Normal - NM Jr og NM Sr (Statkraft Jr Cup 5/DNB cup 6)-Time': 'Normal - NM Jr og NM Sr (Statkraft Jr Cup 5/DNB cup 6)-poeng',\n",
    "    'Sprint-NM Jr & Sr DNB Cup 6-Time': 'Sprint-NM Jr & Sr DNB Cup 6-poeng',\n",
    "    'Statkraft Junior Cup 17-18 år-Time': 'Statkraft Junior Cup 17-18 år-poeng',\n",
    "    'Statkraft Junior Cup 19-21 år-Time': 'Statkraft Junior Cup 19-21 år-poeng',\n",
    "    \"RankValue\":\"Poeng sammenlagt\",\n",
    "    \"Rank\":\"Sammenlagt plassering\"\n",
    "}\n",
    "\n",
    "df_filtrert= df_filtrert.rename(columns=rename_mapping)"
   ]
  },
  {
   "cell_type": "code",
   "execution_count": 24,
   "metadata": {},
   "outputs": [
    {
     "name": "stderr",
     "output_type": "stream",
     "text": [
      "/var/folders/rr/dz54q6j13k102m4gr5nfnv1r0000gn/T/ipykernel_39283/1674049625.py:1: ParserWarning: Length of header or names does not match length of data. This leads to a loss of data with index_col=False.\n",
      "  nc_1718 = pd.read_csv('nc_sammenlagt_1718.csv', delimiter=';', encoding='utf-8',index_col=False)\n"
     ]
    }
   ],
   "source": [
    "nc_1718 = pd.read_csv('nc_sammenlagt_1718.csv', delimiter=';', encoding='utf-8',index_col=False)"
   ]
  },
  {
   "cell_type": "code",
   "execution_count": 25,
   "metadata": {},
   "outputs": [],
   "source": [
    "nc_1718['navn'] = nc_1718['Firstname'] + ' ' + nc_1718['Surname']"
   ]
  },
  {
   "cell_type": "code",
   "execution_count": 35,
   "metadata": {},
   "outputs": [],
   "source": [
    "time_columns = nc_1718.filter(regex='-time$|-Time$', axis=1).columns\n",
    "\n",
    "time_columns_list = nc_1718.filter(regex='-time$|-Time$', axis=1).columns.tolist()\n",
    "\n",
    "standard_kolonner = ['Number','navn', 'Firstname', 'Surname', 'Gender', 'Club', 'Type',\n",
    "'Class','RankValue', 'Rank', 'Participated', 'ContestantId',\n",
    "'Team', 'TotalPoints','ClassId']\n",
    "\n",
    "alle_kolonner = standard_kolonner + time_columns_list"
   ]
  },
  {
   "cell_type": "code",
   "execution_count": 36,
   "metadata": {},
   "outputs": [],
   "source": [
    "nc_1718_filtrert = nc_1718[alle_kolonner]\n",
    "\n",
    "ønskede_navn = [\n",
    "    'Tobias Karlsen',\n",
    "    'Per VASSMYR',\n",
    "    'Eirik Silsand Gerhardsen',\n",
    "    'Rasmus Odland Kvamme',\n",
    "    'Sigurd Vangberg Vaadal',\n",
    "    'Markus Elias Breivik',\n",
    "    'Gard Edvard Myhr',\n",
    "    'Emil Kloster Snekkevik',\n",
    "    'Robin Johan Benonisen',\n",
    "    'Sigbjørn Edøy',\n",
    "    'Idunn Raade Olsen',\n",
    "    'Julie Kloster Snekkevik'\n",
    "]\n",
    "\n",
    "nc_1718_filtrert = nc_1718_filtrert[nc_1718_filtrert['navn'].isin(ønskede_navn)]"
   ]
  },
  {
   "cell_type": "code",
   "execution_count": 53,
   "metadata": {},
   "outputs": [],
   "source": [
    "def nc_csv(file_path):\n",
    "\n",
    "    df = pd.read_csv(file_path, delimiter=';', encoding='utf-8',index_col=False)\n",
    "\n",
    "    df['navn'] = df['Firstname'] + ' ' + df['Surname']\n",
    "\n",
    "    time_columns = df.filter(regex='-time$|-Time$', axis=1).columns\n",
    "\n",
    "    time_columns_list = df.filter(regex='-time$|-Time$|-Time.1', axis=1).columns.tolist()\n",
    "\n",
    "    standard_kolonner = ['Number','navn', 'Firstname', 'Surname', 'Gender', 'Club', 'Type',\n",
    "                        'Class','RankValue', 'Rank', 'Participated', 'ContestantId',\n",
    "                        'Team', 'TotalPoints','ClassId']\n",
    "\n",
    "    alle_kolonner = standard_kolonner + time_columns_list\n",
    "\n",
    "\n",
    "    df_filtrert = df[alle_kolonner]\n",
    "\n",
    "    ønskede_navn = [\n",
    "    'Tobias Karlsen',\n",
    "    'Per VASSMYR',\n",
    "    'Eirik Silsand Gerhardsen',\n",
    "    'Rasmus Odland Kvamme',\n",
    "    'Sigurd Vangberg Vaadal',\n",
    "    'Markus Elias Breivik',\n",
    "    'Gard Edvard Myhr',\n",
    "    'Emil Kloster Snekkevik',\n",
    "    'Robin Johan Benonisen',\n",
    "    'Sigbjørn Edøy',\n",
    "    'Idunn Raade Olsen',\n",
    "    'Julie Kloster Snekkevik',\n",
    "    'Olav Lanes Severinsen',\n",
    "    'Vebjørn Skjelmo Sæbø']\n",
    "    \n",
    "    df_filtrert_navn = df_filtrert[df_filtrert['navn'].isin(ønskede_navn)]\n",
    "\n",
    "    return df_filtrert_navn\n"
   ]
  },
  {
   "cell_type": "code",
   "execution_count": 54,
   "metadata": {},
   "outputs": [
    {
     "name": "stderr",
     "output_type": "stream",
     "text": [
      "/var/folders/rr/dz54q6j13k102m4gr5nfnv1r0000gn/T/ipykernel_39283/3045908301.py:3: ParserWarning: Length of header or names does not match length of data. This leads to a loss of data with index_col=False.\n",
      "  df = pd.read_csv(file_path, delimiter=';', encoding='utf-8',index_col=False)\n",
      "/var/folders/rr/dz54q6j13k102m4gr5nfnv1r0000gn/T/ipykernel_39283/3045908301.py:3: ParserWarning: Length of header or names does not match length of data. This leads to a loss of data with index_col=False.\n",
      "  df = pd.read_csv(file_path, delimiter=';', encoding='utf-8',index_col=False)\n",
      "/var/folders/rr/dz54q6j13k102m4gr5nfnv1r0000gn/T/ipykernel_39283/3045908301.py:3: ParserWarning: Length of header or names does not match length of data. This leads to a loss of data with index_col=False.\n",
      "  df = pd.read_csv(file_path, delimiter=';', encoding='utf-8',index_col=False)\n",
      "/var/folders/rr/dz54q6j13k102m4gr5nfnv1r0000gn/T/ipykernel_39283/3045908301.py:3: ParserWarning: Length of header or names does not match length of data. This leads to a loss of data with index_col=False.\n",
      "  df = pd.read_csv(file_path, delimiter=';', encoding='utf-8',index_col=False)\n"
     ]
    }
   ],
   "source": [
    "test = nc_csv('nc_sammenlagt_1718.csv')\n",
    "test_2 =nc_csv('nc_sammenlagt_1516.csv')\n",
    "test_3 = nc_csv('nc_sammenlagt_1819.csv')\n",
    "test_4 = nc_csv('nc_sammenlagt_1920.csv')"
   ]
  }
 ],
 "metadata": {
  "kernelspec": {
   "display_name": "Python 3",
   "language": "python",
   "name": "python3"
  },
  "language_info": {
   "codemirror_mode": {
    "name": "ipython",
    "version": 3
   },
   "file_extension": ".py",
   "mimetype": "text/x-python",
   "name": "python",
   "nbconvert_exporter": "python",
   "pygments_lexer": "ipython3",
   "version": "3.12.0"
  }
 },
 "nbformat": 4,
 "nbformat_minor": 2
}
